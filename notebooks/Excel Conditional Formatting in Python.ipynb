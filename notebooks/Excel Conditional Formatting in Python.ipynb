{
 "cells": [
  {
   "cell_type": "markdown",
   "id": "d36ce0ea",
   "metadata": {},
   "source": [
    "# Excel Conditional Formatting in Python"
   ]
  },
  {
   "cell_type": "code",
   "execution_count": 1,
   "id": "27d9fce1",
   "metadata": {},
   "outputs": [],
   "source": [
    "import pandas as pd\n",
    "import numpy as np "
   ]
  },
  {
   "cell_type": "code",
   "execution_count": 2,
   "id": "b5b7731a",
   "metadata": {},
   "outputs": [],
   "source": [
    "data = np.random.rand(20,5)\n",
    "df = pd.DataFrame(data)"
   ]
  },
  {
   "cell_type": "code",
   "execution_count": 3,
   "id": "02a3e774",
   "metadata": {},
   "outputs": [],
   "source": [
    "s = df.style.background_gradient(cmap = 'Greens')\n",
    "\n",
    "s.to_excel('sample.xlsx', index = None)"
   ]
  },
  {
   "cell_type": "code",
   "execution_count": 4,
   "id": "fcd7d6ec",
   "metadata": {},
   "outputs": [],
   "source": [
    "import openpyxl"
   ]
  },
  {
   "cell_type": "code",
   "execution_count": 5,
   "id": "39074703",
   "metadata": {},
   "outputs": [],
   "source": [
    "wb = openpyxl.open(\"sample.xlsx\")"
   ]
  },
  {
   "cell_type": "code",
   "execution_count": 6,
   "id": "10e72b77",
   "metadata": {},
   "outputs": [],
   "source": [
    "ws = wb.active"
   ]
  },
  {
   "cell_type": "code",
   "execution_count": 7,
   "id": "8e6d660e",
   "metadata": {},
   "outputs": [],
   "source": [
    "ws.auto_filter.ref = ws.calculate_dimension()"
   ]
  },
  {
   "cell_type": "code",
   "execution_count": 8,
   "id": "73183220",
   "metadata": {},
   "outputs": [
    {
     "data": {
      "text/plain": [
       "'A1:E21'"
      ]
     },
     "execution_count": 8,
     "metadata": {},
     "output_type": "execute_result"
    }
   ],
   "source": [
    "ws.calculate_dimension()"
   ]
  },
  {
   "cell_type": "code",
   "execution_count": 9,
   "id": "7e4ddbfd",
   "metadata": {},
   "outputs": [],
   "source": [
    "wb.save('sample.xlsx')"
   ]
  }
 ],
 "metadata": {
  "kernelspec": {
   "display_name": "Python 3 (ipykernel)",
   "language": "python",
   "name": "python3"
  },
  "language_info": {
   "codemirror_mode": {
    "name": "ipython",
    "version": 3
   },
   "file_extension": ".py",
   "mimetype": "text/x-python",
   "name": "python",
   "nbconvert_exporter": "python",
   "pygments_lexer": "ipython3",
   "version": "3.9.13"
  }
 },
 "nbformat": 4,
 "nbformat_minor": 5
}
